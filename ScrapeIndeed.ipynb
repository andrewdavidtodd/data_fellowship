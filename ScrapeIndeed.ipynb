{
 "cells": [
  {
   "cell_type": "markdown",
   "metadata": {},
   "source": [
    "# Scrape Jobs from Indeed.co.uk\n",
    "\n",
    "Using personal PC to get around UBS firewall"
   ]
  },
  {
   "cell_type": "code",
   "execution_count": 2,
   "metadata": {},
   "outputs": [],
   "source": [
    "import requests\n",
    "import bs4\n",
    "from bs4 import BeautifulSoup\n",
    "import pandas as pd\n",
    "import time"
   ]
  },
  {
   "cell_type": "markdown",
   "metadata": {},
   "source": [
    "## Trying the search term \"Quantitative Analyst\" and location London"
   ]
  },
  {
   "cell_type": "code",
   "execution_count": 3,
   "metadata": {},
   "outputs": [],
   "source": [
    "URL = \"https://www.indeed.co.uk/jobs?q=quantitative+analyst&l=London\"\n",
    "page = requests.get(URL)\n",
    "soup = BeautifulSoup(page.text, \"html.parser\")\n",
    "#print(soup.prettify())\n",
    "# commenting-out the print command, as it is too large to read easily"
   ]
  },
  {
   "cell_type": "code",
   "execution_count": 4,
   "metadata": {},
   "outputs": [
    {
     "data": {
      "text/plain": [
       "['2019 Equity Research Data Analyst Internship',\n",
       " 'Model Validation Quantitative Analyst – Permanent – Triton Square',\n",
       " 'Corporate Analyst (London)',\n",
       " 'Lead Analyst - Strategic Analytics',\n",
       " 'Quantitative Model Risk Analyst',\n",
       " 'Quantitative Analyst',\n",
       " 'Entry-Level Analyst - Consumer Quantitative Brand Research Insights',\n",
       " 'Quantitative Equity Analyst',\n",
       " 'Business Analyst - Special Projects Team',\n",
       " 'Quantitative Trading Analyst Intern',\n",
       " 'Quantitative Analyst',\n",
       " 'Unauthorised Trader Activities – Quantitative Analyst',\n",
       " 'Securities, EM EQ Trading, Analyst/Associate, London',\n",
       " 'Global Quantitative Strategies| Full Time Programme',\n",
       " 'Financial Planning Analyst',\n",
       " 'Senior Analyst, Forecasting and Modeling']"
      ]
     },
     "execution_count": 4,
     "metadata": {},
     "output_type": "execute_result"
    }
   ],
   "source": [
    "def extract_job_title_from_result(soup): \n",
    "  jobs = []\n",
    "  for div in soup.find_all(name=\"div\", attrs={\"class\":\"row\"}):\n",
    "      for a in div.find_all(name=\"a\", attrs={\"data-tn-element\":\"jobTitle\"}):\n",
    "          jobs.append(a[\"title\"])\n",
    "  return(jobs)\n",
    "extract_job_title_from_result(soup)"
   ]
  },
  {
   "cell_type": "code",
   "execution_count": 5,
   "metadata": {},
   "outputs": [
    {
     "data": {
      "text/plain": [
       "['Bloomberg',\n",
       " 'Santander',\n",
       " 'VesselsValue',\n",
       " 'Barclays',\n",
       " 'RBS',\n",
       " 'Citi',\n",
       " 'Hall & Partners',\n",
       " 'HSBC',\n",
       " 'Monzo',\n",
       " 'DRW Trading Group',\n",
       " 'Centaur Media',\n",
       " 'Deutsche Bank',\n",
       " 'Goldman Sachs',\n",
       " 'Bank of America',\n",
       " 'XLN Business Services',\n",
       " 'SmartAnalyst Inc.']"
      ]
     },
     "execution_count": 5,
     "metadata": {},
     "output_type": "execute_result"
    }
   ],
   "source": [
    "def extract_company_from_result(soup): \n",
    "    companies = []\n",
    "    for div in soup.find_all(name=\"div\", attrs={\"class\":\"row\"}):\n",
    "        company = div.find_all(name=\"span\", attrs={\"class\":\"company\"})\n",
    "        if len(company) > 0:\n",
    "            for b in company:\n",
    "                companies.append(b.text.strip())\n",
    "        else:\n",
    "            sec_try = div.find_all(name=\"span\", attrs={\"class\":\"result-link-source\"})\n",
    "            for span in sec_try:\n",
    "                companies.append(span.text.strip())\n",
    "    return(companies)\n",
    " \n",
    "extract_company_from_result(soup)"
   ]
  },
  {
   "cell_type": "code",
   "execution_count": null,
   "metadata": {},
   "outputs": [],
   "source": []
  }
 ],
 "metadata": {
  "kernelspec": {
   "display_name": "Python 3",
   "language": "python",
   "name": "python3"
  },
  "language_info": {
   "codemirror_mode": {
    "name": "ipython",
    "version": 3
   },
   "file_extension": ".py",
   "mimetype": "text/x-python",
   "name": "python",
   "nbconvert_exporter": "python",
   "pygments_lexer": "ipython3",
   "version": "3.7.0"
  }
 },
 "nbformat": 4,
 "nbformat_minor": 2
}
