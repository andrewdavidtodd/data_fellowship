{
 "cells": [
  {
   "cell_type": "markdown",
   "metadata": {},
   "source": [
    "# Scrape Jobs from Indeed.co.uk\n",
    "\n",
    "Using personal PC to get around UBS firewall"
   ]
  },
  {
   "cell_type": "code",
   "execution_count": 1,
   "metadata": {},
   "outputs": [],
   "source": [
    "import requests\n",
    "import bs4\n",
    "from bs4 import BeautifulSoup\n",
    "import pandas as pd\n",
    "import time"
   ]
  },
  {
   "cell_type": "code",
   "execution_count": 14,
   "metadata": {},
   "outputs": [],
   "source": [
    "URL = \"https://www.indeed.co.uk/jobs?q=quantitative+analyst&l=London\"\n",
    "#conducting a request of the stated URL above:\n",
    "page = requests.get(URL)\n",
    "#specifying a desired format of “page” using the html parser - this allows python to read the various components of the page, rather than treating it as one long string.\n",
    "soup = BeautifulSoup(page.text, \"html.parser\")\n",
    "#printing soup in a more structured tree format that makes for easier reading\n",
    "#print(soup.prettify())"
   ]
  },
  {
   "cell_type": "code",
   "execution_count": 15,
   "metadata": {},
   "outputs": [
    {
     "data": {
      "text/plain": [
       "['Senior Analyst, Forecasting and Modeling',\n",
       " 'Model Validation Quantitative Analyst – Permanent – Triton Square',\n",
       " 'Corporate Analyst (London)',\n",
       " 'Lead Analyst - Strategic Analytics',\n",
       " 'Quantitative Model Risk Analyst',\n",
       " 'Quantitative Analyst',\n",
       " 'Entry-Level Analyst - Consumer Quantitative Brand Research Insights',\n",
       " 'Quantitative Equity Analyst',\n",
       " 'Business Analyst - Special Projects Team',\n",
       " 'Corporate Analyst (London)',\n",
       " 'Unauthorised Trader Activities – Quantitative Analyst',\n",
       " 'Quantitative Trading Analyst Intern',\n",
       " 'Quantitative Analyst',\n",
       " 'Securities, EM EQ Trading, Analyst/Associate, London',\n",
       " 'Financial Planning Analyst',\n",
       " '2019 Equity Research Data Analyst Internship']"
      ]
     },
     "execution_count": 15,
     "metadata": {},
     "output_type": "execute_result"
    }
   ],
   "source": [
    "def extract_job_title_from_result(soup): \n",
    "  jobs = []\n",
    "  for div in soup.find_all(name=\"div\", attrs={\"class\":\"row\"}):\n",
    "      for a in div.find_all(name=\"a\", attrs={\"data-tn-element\":\"jobTitle\"}):\n",
    "          jobs.append(a[\"title\"])\n",
    "  return(jobs)\n",
    "extract_job_title_from_result(soup)"
   ]
  },
  {
   "cell_type": "code",
   "execution_count": 16,
   "metadata": {},
   "outputs": [
    {
     "data": {
      "text/plain": [
       "['SmartAnalyst Inc.',\n",
       " 'Santander',\n",
       " 'VesselsValue',\n",
       " 'Barclays',\n",
       " 'RBS',\n",
       " 'Citi',\n",
       " 'Hall & Partners',\n",
       " 'HSBC',\n",
       " 'Monzo',\n",
       " 'VesselsValue',\n",
       " 'Deutsche Bank',\n",
       " 'DRW Trading Group',\n",
       " 'Centaur Media',\n",
       " 'Goldman Sachs',\n",
       " 'XLN Business Services',\n",
       " 'Bloomberg']"
      ]
     },
     "execution_count": 16,
     "metadata": {},
     "output_type": "execute_result"
    }
   ],
   "source": [
    "def extract_company_from_result(soup): \n",
    "    companies = []\n",
    "    for div in soup.find_all(name=\"div\", attrs={\"class\":\"row\"}):\n",
    "        company = div.find_all(name=\"span\", attrs={\"class\":\"company\"})\n",
    "        if len(company) > 0:\n",
    "            for b in company:\n",
    "                companies.append(b.text.strip())\n",
    "        else:\n",
    "            sec_try = div.find_all(name=\"span\", attrs={\"class\":\"result-link-source\"})\n",
    "            for span in sec_try:\n",
    "                companies.append(span.text.strip())\n",
    "    return(companies)\n",
    " \n",
    "extract_company_from_result(soup)"
   ]
  },
  {
   "cell_type": "code",
   "execution_count": null,
   "metadata": {},
   "outputs": [],
   "source": []
  }
 ],
 "metadata": {
  "kernelspec": {
   "display_name": "Python 3",
   "language": "python",
   "name": "python3"
  },
  "language_info": {
   "codemirror_mode": {
    "name": "ipython",
    "version": 3
   },
   "file_extension": ".py",
   "mimetype": "text/x-python",
   "name": "python",
   "nbconvert_exporter": "python",
   "pygments_lexer": "ipython3",
   "version": "3.7.0"
  }
 },
 "nbformat": 4,
 "nbformat_minor": 2
}
